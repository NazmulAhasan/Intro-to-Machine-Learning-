{
 "cells": [
  {
   "cell_type": "markdown",
   "metadata": {},
   "source": [
    "## K-Nearest Neighbor Classification "
   ]
  },
  {
   "cell_type": "code",
   "execution_count": 1,
   "metadata": {},
   "outputs": [],
   "source": [
    "import numpy as np\n",
    "from sklearn import datasets, neighbors\n",
    "from sklearn.neighbors import KNeighborsClassifier\n",
    "from sklearn.datasets import load_iris\n",
    "import matplotlib.pyplot as plt\n",
    "%matplotlib inline"
   ]
  },
  {
   "cell_type": "markdown",
   "metadata": {},
   "source": [
    "## Step-1: Loading Data"
   ]
  },
  {
   "cell_type": "code",
   "execution_count": 2,
   "metadata": {},
   "outputs": [],
   "source": [
    "iris = load_iris()\n",
    "X = iris.data[:, :2]\n",
    "Y = iris.target"
   ]
  },
  {
   "cell_type": "markdown",
   "metadata": {},
   "source": [
    "## Step-2: Splitting Data"
   ]
  },
  {
   "cell_type": "code",
   "execution_count": 3,
   "metadata": {},
   "outputs": [],
   "source": [
    "samples = len(Y)\n",
    "\n",
    "indices = np.random.permutation(samples)\n",
    "\n",
    "training_samples = int(samples * 0.75)\n",
    "\n",
    "#Training set\n",
    "x_train = X[indices[ : training_samples]]\n",
    "y_train = Y[indices[ : training_samples]]\n",
    "\n",
    "#Test set\n",
    "x_test = X[indices[training_samples : ]]\n",
    "y_test = Y[indices[training_samples : ]]"
   ]
  },
  {
   "cell_type": "markdown",
   "metadata": {},
   "source": [
    "## Step-3: Visualize"
   ]
  },
  {
   "cell_type": "code",
   "execution_count": 42,
   "metadata": {},
   "outputs": [
    {
     "data": {
      "image/png": "[encoded data removed]",
      "text/plain": [
       "<matplotlib.figure.Figure at 0x3ab2e6c50>"
      ]
     },
     "metadata": {},
     "output_type": "display_data"
    }
   ],
   "source": [
    "X_class0 = np.asmatrix([ x_train[i] for i in range(len(x_train)) if y_train[i]==0 ])\n",
    "Y_class0 = np.zeros((X_class0.shape[0]), dtype=np.int)\n",
    "\n",
    "X_class1 = np.asmatrix([ x_train[i] for i in range(len(x_train)) if y_train[i]==1 ])\n",
    "Y_class1 = np.ones((X_class1.shape[0]), dtype=np.int)\n",
    "\n",
    "X_class2 = np.asmatrix([x_train[i] for i in range(len(x_train)) if y_train[i]==2])\n",
    "Y_class2 = np.full((X_class2.shape[0]), fill_value=2, dtype=np.int)\n",
    "\n",
    "plt.scatter([X_class0[:, 0]], [X_class0[:, 1]], color='red')\n",
    "plt.scatter([X_class1[:, 0]], [X_class1[:, 1]], color='green')\n",
    "plt.scatter([X_class2[:,0]], [X_class2[:,1]], color='blue')\n",
    "plt.xlabel('sepal length')\n",
    "plt.ylabel('sepal width')\n",
    "plt.legend(['class 0', 'class 1', 'class 2'])\n",
    "plt.title('Visualization')\n",
    "plt.show()"
   ]
  },
  {
   "cell_type": "markdown",
   "metadata": {},
   "source": [
    "## Step-4: Model Fitting"
   ]
  },
  {
   "cell_type": "code",
   "execution_count": 5,
   "metadata": {},
   "outputs": [
    {
     "data": {
      "text/plain": [
       "KNeighborsClassifier(algorithm='auto', leaf_size=30, metric='minkowski',\n",
       "           metric_params=None, n_jobs=1, n_neighbors=5, p=2,\n",
       "           weights='uniform')"
      ]
     },
     "execution_count": 5,
     "metadata": {},
     "output_type": "execute_result"
    }
   ],
   "source": [
    "model = neighbors.KNeighborsClassifier(n_neighbors = 5)\n",
    "model.fit(x_train, y_train)"
   ]
  },
  {
   "cell_type": "markdown",
   "metadata": {},
   "source": [
    "## Step-5: Visualize Algorithm"
   ]
  },
  {
   "cell_type": "code",
   "execution_count": 24,
   "metadata": {},
   "outputs": [],
   "source": [
    "point = np.array([5.9,2.9])\n",
    "true_point = 1\n",
    "predicted_class = model.predict([point])\n",
    "neighbors_object = neighbors.NearestNeighbors(n_neighbors=5)\n",
    "neighbors_object.fit(x_train)\n",
    "nn_distances, nn_point_indices = neighbors_object.kneighbors([point])\n",
    "nn_point = x_train[nn_point_indices[0]]"
   ]
  },
  {
   "cell_type": "code",
   "execution_count": 25,
   "metadata": {},
   "outputs": [
    {
     "name": "stdout",
     "output_type": "stream",
     "text": [
      "The query point is: [5.9 2.9]\n",
      "\n",
      "The nearest neighbors of the query point are:\n",
      " [[5.9 3. ]\n",
      " [5.9 3. ]\n",
      " [6.  3. ]\n",
      " [5.8 2.8]\n",
      " [6.1 2.9]]\n",
      "\n",
      "The classes of the nearest neighbors are: [1 2 2 2 1]\n",
      "\n",
      "Predicted class for query point: 2\n"
     ]
    }
   ],
   "source": [
    "print(\"The query point is: {}\\n\".format(point))\n",
    "print(\"The nearest neighbors of the query point are:\\n {}\\n\".format(nn_point))\n",
    "print(\"The classes of the nearest neighbors are: {}\\n\".format(y_train[nn_point_indices[0]]))\n",
    "print(\"Predicted class for query point: {}\".format(predicted_class[0]))"
   ]
  },
  {
   "cell_type": "code",
   "execution_count": 44,
   "metadata": {},
   "outputs": [
    {
     "data": {
      "image/png": "[encoded data removed]",
      "text/plain": [
       "<matplotlib.figure.Figure at 0x3ab244e48>"
      ]
     },
     "metadata": {},
     "output_type": "display_data"
    }
   ],
   "source": [
    "plt.scatter([X_class0[:, 0]], [X_class0[:, 1]], color='red')\n",
    "plt.scatter([X_class1[:, 0]], [X_class1[:, 1]], color='green')\n",
    "plt.scatter([X_class2[:, 0]], [X_class2[:, 1]], color='blue')\n",
    "plt.scatter([point[0]], [point[1]], marker='^', s=75, color='black')\n",
    "plt.scatter([nn_point[:, 0]], [nn_point[:, 1]], marker='s',s=150, color='yellow', alpha=0.30)\n",
    "plt.xlabel('sepal length')\n",
    "plt.ylabel('sepal width')\n",
    "plt.legend(['class 0','class 1','class 2'])\n",
    "plt.title('5-NN Classification')\n",
    "plt.show()"
   ]
  },
  {
   "cell_type": "markdown",
   "metadata": {},
   "source": [
    "## Step-6: Evaluation"
   ]
  },
  {
   "cell_type": "code",
   "execution_count": 45,
   "metadata": {},
   "outputs": [],
   "source": [
    "def evaluation(model, x_test, y_test):\n",
    "    \n",
    "    predictions = [model.predict(x_test[i].reshape( (1, len(x_test[i]))))[0] for i in range(x_test.shape[0])]\n",
    "    percentage = 0\n",
    "    for i in range(len(predictions)):\n",
    "        if predictions[i] != y_test[i]:\n",
    "            percentage += 1\n",
    "    percentage *= 100/len(y_test)\n",
    "    \n",
    "    return percentage"
   ]
  },
  {
   "cell_type": "code",
   "execution_count": 46,
   "metadata": {},
   "outputs": [
    {
     "name": "stdout",
     "output_type": "stream",
     "text": [
      "Misclassification Percentage = 36.8421052631579%\n"
     ]
    }
   ],
   "source": [
    "print('Misclassification Percentage = {}%'.format(evaluation(model, x_test, y_test)))"
   ]
  },
  {
   "cell_type": "code",
   "execution_count": null,
   "metadata": {},
   "outputs": [],
   "source": []
  }
 ],
 "metadata": {
  "kernelspec": {
   "display_name": "Python 3",
   "language": "python",
   "name": "python3"
  },
  "language_info": {
   "codemirror_mode": {
    "name": "ipython",
    "version": 3
   },
   "file_extension": ".py",
   "mimetype": "text/x-python",
   "name": "python",
   "nbconvert_exporter": "python",
   "pygments_lexer": "ipython3",
   "version": "3.6.4"
  }
 },
 "nbformat": 4,
 "nbformat_minor": 2
}
