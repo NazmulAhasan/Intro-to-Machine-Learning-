{
 "cells": [
  {
   "cell_type": "code",
   "execution_count": 9,
   "metadata": {},
   "outputs": [],
   "source": [
    "import numpy as np\n",
    "from sklearn.model_selection import train_test_split"
   ]
  },
  {
   "cell_type": "markdown",
   "metadata": {},
   "source": [
    "## Step 1: Load Data"
   ]
  },
  {
   "cell_type": "code",
   "execution_count": 2,
   "metadata": {},
   "outputs": [],
   "source": [
    "spambase = open('spambase.data','r')\n",
    "data = []\n",
    "for line in spambase:\n",
    "    line = [float(element) for element in line.rstrip('\\n').split(',')]\n",
    "    data.append(np.asarray(line))"
   ]
  },
  {
   "cell_type": "markdown",
   "metadata": {},
   "source": [
    "## Step 2: Split Data"
   ]
  },
  {
   "cell_type": "code",
   "execution_count": 4,
   "metadata": {},
   "outputs": [],
   "source": [
    "features = 48\n",
    "X = [data[i][:features] for i in range(len(data))]\n",
    "y = [int(data[i][-1]) for i in range(len(data))]"
   ]
  },
  {
   "cell_type": "code",
   "execution_count": 5,
   "metadata": {},
   "outputs": [],
   "source": [
    "X_train, X_test, y_train, y_test = train_test_split(X, y, test_size=0.25, random_state=42)"
   ]
  },
  {
   "cell_type": "markdown",
   "metadata": {},
   "source": [
    "## Step 3: Likelihood Estimation"
   ]
  },
  {
   "cell_type": "code",
   "execution_count": 8,
   "metadata": {},
   "outputs": [],
   "source": [
    "X_train_ham = [X_train[i] for i in range(len(X_train)) if y_train[i]==0]\n",
    "X_train_spam = [X_train[i] for i in range(len(X_train)) if y_train[i]==1]\n",
    "\n",
    "#Find the class specific likelihoods of each feature\n",
    "likelihoods_ham = np.mean(X_train_ham, axis=0)/100.0\n",
    "likelihoods_spam = np.mean(X_train_spam, axis=0)/100.0"
   ]
  },
  {
   "cell_type": "markdown",
   "metadata": {},
   "source": [
    "## Step 4: Prior Estimation"
   ]
  },
  {
   "cell_type": "code",
   "execution_count": 11,
   "metadata": {},
   "outputs": [],
   "source": [
    "num_ham = float(len(X_train_ham))\n",
    "num_spam = float(len(X_train_spam))\n",
    "\n",
    "prior_ham = num_ham / (num_ham + num_spam)\n",
    "prior_spam = num_spam / (num_ham + num_spam)\n",
    "\n",
    "log_prior_ham = np.log10(prior_ham)\n",
    "log_prior_spam = np.log10(prior_spam)"
   ]
  },
  {
   "cell_type": "code",
   "execution_count": 32,
   "metadata": {},
   "outputs": [],
   "source": [
    "def calculate_log_likelihoods_with_naive_bayes(feature_vector, Class):\n",
    "    \n",
    "    assert len(feature_vector) == features\n",
    "    log_likelihood = 0.0 #using log-likelihood to avoid underflow\n",
    "    if Class==0:\n",
    "        for feature_index in range(len(feature_vector)):\n",
    "            if feature_vector[feature_index] == 1: #feature present\n",
    "                log_likelihood += np.log10(likelihoods_ham[feature_index]) \n",
    "            elif feature_vector[feature_index] == 0: #feature absent\n",
    "                log_likelihood += np.log10(1.0 - likelihoods_spam[feature_index])\n",
    "    elif Class==1:\n",
    "        for feature_index in range(len(feature_vector)):\n",
    "            if feature_vector[feature_index] == 1: #feature present\n",
    "                log_likelihood += np.log10(likelihoods_spam[feature_index]) \n",
    "            elif feature_vector[feature_index] == 0: #feature absent\n",
    "                log_likelihood += np.log10(1.0 - likelihoods_spam[feature_index])\n",
    "    else:\n",
    "        raise ValueError(\"Class takes integer values 0 or 1\")\n",
    "        \n",
    "    return log_likelihood"
   ]
  },
  {
   "cell_type": "code",
   "execution_count": 33,
   "metadata": {},
   "outputs": [],
   "source": [
    "def calculate_class_posteriors(feature_vector):\n",
    "    \n",
    "    log_likelihood_ham = calculate_log_likelihoods_with_naive_bayes(feature_vector, Class=0)\n",
    "    log_likelihood_spam = calculate_log_likelihoods_with_naive_bayes(feature_vector, Class=1)\n",
    "    \n",
    "    log_posterior_ham = log_likelihood_ham + log_prior_ham\n",
    "    log_posterior_spam = log_likelihood_spam + log_prior_spam\n",
    "    \n",
    "    return log_posterior_ham, log_posterior_spam"
   ]
  },
  {
   "cell_type": "code",
   "execution_count": 34,
   "metadata": {},
   "outputs": [],
   "source": [
    "def classify(document_vector):\n",
    "    \n",
    "    feature_vector = [int(element > 0.0) for element in document_vector]\n",
    "    log_posterior_ham, log_posterior_spam = calculate_class_posteriors(feature_vector)\n",
    "    \n",
    "    if log_posterior_ham > log_posterior_spam:\n",
    "        return 0\n",
    "    else:\n",
    "        return 1"
   ]
  },
  {
   "cell_type": "markdown",
   "metadata": {},
   "source": [
    "## Step 5: Prediction"
   ]
  },
  {
   "cell_type": "code",
   "execution_count": 35,
   "metadata": {},
   "outputs": [],
   "source": [
    "predictions = []\n",
    "for email in X_test:\n",
    "    predictions.append(classify(email))"
   ]
  },
  {
   "cell_type": "markdown",
   "metadata": {},
   "source": [
    "## Step 6: Evaluate Performance"
   ]
  },
  {
   "cell_type": "code",
   "execution_count": 36,
   "metadata": {},
   "outputs": [],
   "source": [
    "def evaluate_performance(predictions, labels):\n",
    "    \n",
    "    correct_count = 0.0\n",
    "    \n",
    "    for i in range(len(predictions)):\n",
    "        if predictions[i] == labels[i]:\n",
    "            correct_count += 1.0\n",
    "            \n",
    "    accuracy = correct_count/len(predictions)\n",
    "    \n",
    "    return accuracy"
   ]
  },
  {
   "cell_type": "code",
   "execution_count": 37,
   "metadata": {},
   "outputs": [
    {
     "name": "stdout",
     "output_type": "stream",
     "text": [
      "89.3136403127715 %\n"
     ]
    }
   ],
   "source": [
    "accuracy_of_naive_bayes = evaluate_performance(predictions, y_test)\n",
    "print(accuracy_of_naive_bayes * 100, \"%\")"
   ]
  },
  {
   "cell_type": "code",
   "execution_count": null,
   "metadata": {},
   "outputs": [],
   "source": []
  }
 ],
 "metadata": {
  "kernelspec": {
   "display_name": "Python 3",
   "language": "python",
   "name": "python3"
  },
  "language_info": {
   "codemirror_mode": {
    "name": "ipython",
    "version": 3
   },
   "file_extension": ".py",
   "mimetype": "text/x-python",
   "name": "python",
   "nbconvert_exporter": "python",
   "pygments_lexer": "ipython3",
   "version": "3.6.5"
  }
 },
 "nbformat": 4,
 "nbformat_minor": 2
}
